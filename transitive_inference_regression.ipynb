{
 "cells": [
  {
   "cell_type": "markdown",
   "id": "d912aa93-45d0-4b7f-85ad-a581c7b6e519",
   "metadata": {},
   "source": [
    "# **Training transformer on linear regression, test on TI task**\n"
   ]
  },
  {
   "cell_type": "code",
   "execution_count": 1,
   "id": "469777c9-57d8-494e-aae0-5944d281b9e5",
   "metadata": {},
   "outputs": [],
   "source": [
    "#@title Imports external sources\n",
    "import os\n",
    "import io\n",
    "import PIL.Image, PIL.ImageDraw, PIL.ImageFont\n",
    "import base64\n",
    "import zipfile\n",
    "import json\n",
    "import requests\n",
    "import matplotlib.pylab as pl\n",
    "import numpy as np\n",
    "import glob\n",
    "import requests\n",
    "import random as pyrandom\n",
    "from concurrent import futures\n",
    "from functools import partial\n",
    "from scipy.ndimage import rotate\n",
    "from IPython.display import Image, HTML, clear_output\n",
    "from tqdm import tqdm_notebook, tnrange\n",
    "import time\n",
    "from typing import Any, MutableMapping, NamedTuple, Tuple\n",
    "# !pip install --quiet -U dm-haiku\n",
    "# !pip install --quiet -U optax\n",
    "import haiku as hk\n",
    "import jax\n",
    "from jax import grad, jit, vmap\n",
    "import jax.numpy as jnp\n",
    "import math\n",
    "# !pip install --quiet -U ml_collections\n",
    "from ml_collections import config_dict\n",
    "\n",
    "import matplotlib.pylab as pl\n",
    "import matplotlib.colors as mcolors\n",
    "colors = pl.get_cmap('Dark2')"
   ]
  },
  {
   "cell_type": "code",
   "execution_count": 2,
   "id": "80513bc2-377f-44a0-a5e8-8f3783f55981",
   "metadata": {},
   "outputs": [],
   "source": [
    "#@title Import internal sources (from github)\n",
    "# !git clone --quiet https://github.com/transformerGD/transformers-learn-in-context-by-gradient-descent.git /content/transformers-learn-in-context-by-gradient-descent > /dev/null 2>&1\n",
    "# %cd /content/transformers-learn-in-context-by-gradient-descent\n",
    "from src.transformer import Transformer\n",
    "from src.data import create_weights, create_reg_data, create_reg_data_TI_onehot_eval\n",
    "from src.config import config\n",
    "from src.train import *"
   ]
  },
  {
   "cell_type": "markdown",
   "id": "86f6cdb4-c4c4-4e5e-a2af-da2e7d11f503",
   "metadata": {},
   "source": [
    "In the following you can play around with the experimental setup. \n",
    "A couple of things to note: \n",
    "\n",
    "1.   **\"recurrent_Transformer\"** chooses if we want to share the same weights across multiple self-attention layers.  \n",
    "\n",
    "2. **num_seeds** > 1 will rerun and show results of the experiment with the same config but with different seeds. For quick execution set this to 1.\n",
    "\n",
    "3. Note that when choosing softmax, we need to increase the num_heads to a minimum of 2 to get good performance and alignment with GD.\n",
    "\n",
    "4. The experiments run much quicker when using a GPU or TPU."
   ]
  },
  {
   "cell_type": "code",
   "execution_count": 3,
   "id": "c9eaa5ef-1960-43e9-8122-4b38167aad38",
   "metadata": {},
   "outputs": [
    {
     "data": {
      "text/plain": [
       "[cuda(id=0), cuda(id=1), cuda(id=2)]"
      ]
     },
     "execution_count": 3,
     "metadata": {},
     "output_type": "execute_result"
    }
   ],
   "source": [
    "jax.devices()"
   ]
  },
  {
   "cell_type": "code",
   "execution_count": 4,
   "id": "7e93a0fc-12c4-4f43-8757-bb24f123eb77",
   "metadata": {},
   "outputs": [],
   "source": [
    "rng = jax.random.key(6)\n",
    "i_size = 14  # 5 classes\n",
    "c_size = (i_size//2-1) * 2  # -1 because we leave one adjacent pair out, which the model should be trained on to do linregress\n",
    "size_distract = None\n",
    "input_range = None\n",
    "w_scale = 1.\n",
    "\n",
    "# seq, target, w = create_reg_data_TI_onehot(rng, i_size, c_size, size_distract, input_range, w_scale)\n",
    "# seq"
   ]
  },
  {
   "cell_type": "code",
   "execution_count": 5,
   "id": "861648b0-6ae5-45b6-9346-786bc4a788d4",
   "metadata": {},
   "outputs": [],
   "source": [
    "#@title Config\n",
    "softmax = False #@param {type:\"boolean\"}\n",
    "layernorm = False #@param {type:\"boolean\"}\n",
    "\n",
    "recurrent_Transformer = True #@param {type:\"boolean\"}\n",
    "num_layers = 1 #@param {type:\"integer\"}\n",
    "num_heads = 1 #@param {type:\"integer\"}\n",
    "num_seeds = 1 #@param {type:\"integer\"}\n",
    "\n",
    "config.seed = 0\n",
    "config.local_usage = True\n",
    "\n",
    "####\n",
    "config.deq = recurrent_Transformer\n",
    "config.gd_deq = recurrent_Transformer \n",
    "config.att_only_trans = True\n",
    "####\n",
    "\n",
    "config.pre_train_gd = False\n",
    "config.train_gd_whitening = False\n",
    "config.train_gd_lr = False\n",
    "\n",
    "config.use_bias = False\n",
    "config.include_query = False\n",
    "\n",
    "config.distract_size = 0\n",
    "config.training_steps = 5000 if config.deq else 50000\n",
    "config.training_steps_gd = 1000 if config.gd_deq else 30000\n",
    "config.use_softmax = softmax\n",
    "config.first_layer_sm = False\n",
    "config.use_non_lin_mix = False\n",
    "\n",
    "config.widening_factor = 4\n",
    "\n",
    "config.layer_norm = layernorm\n",
    "config.out_proj = False\n",
    "config.in_proj = False\n",
    "config.adam = True\n",
    "\n",
    "i_size = 14  # 7 classes\n",
    "c_size = (i_size//2-1) * 2  # -1 because we leave one adjacent pair out, which the model should be trained on with linear regression\n",
    "\n",
    "config.dataset_size = c_size\n",
    "config.input_size = i_size\n",
    "config.key_size = i_size + 1\n",
    "\n",
    "config.num_layers = num_layers\n",
    "config.num_heads = num_heads\n",
    "\n",
    "config.grad_clip_value = 10 if num_layers > 2 else 0.001\n",
    "config.grad_clip_value_gd = 10 if num_layers > 2 else 0.001\n",
    "config.lr = 0.0005 if num_layers > 3 else 0.001\n",
    "config.gd_lr = 0.0005 if num_layers > 3 else 0.001\n",
    "config.wd = 0.0\n",
    "config.init_scale = 0.002 / config.num_layers\n",
    "config.bs = 2048\n",
    "config.bs_gd_train = 512\n",
    "config.dampening = 1.0\n",
    "config.clip = 10 if num_layers > 3 else 0 \n",
    "\n",
    "config.dropout_rate = 0.0\n",
    "data_creator = vmap(create_reg_data,\n",
    "                    in_axes=(0, None, None, None, None, None),\n",
    "                    out_axes=0)\n",
    "\n",
    "config.y_update = False\n",
    "config.input_range = 1\n",
    "\n",
    "config.pos_enc = False\n",
    "config.pos_enc_size = 20\n",
    "config.concat_pos_enc = False\n",
    "config.analyse = True\n",
    "\n",
    "config.cycle_data = 0 #0 means online learning\n",
    "config.num_seeds = num_seeds\n",
    "if config.num_layers == 1:\n",
    "  assert config.deq == True\n",
    "  assert config.gd_deq == True\n",
    "\n",
    "if config.num_layers > 1:\n",
    "  assert config.y_update == False\n",
    "\n",
    "config.in_proj = False\n",
    "config.emb_size = 11"
   ]
  },
  {
   "cell_type": "code",
   "execution_count": 6,
   "id": "642add56-1d87-4f8b-ba3a-3739fd31b766",
   "metadata": {
    "jupyter": {
     "source_hidden": true
    }
   },
   "outputs": [
    {
     "name": "stderr",
     "output_type": "stream",
     "text": [
      "/tmp/ipykernel_2679319/507748809.py:9: MatplotlibDeprecationWarning: The get_cmap function was deprecated in Matplotlib 3.7 and will be removed in 3.11. Use ``matplotlib.colormaps[name]`` or ``matplotlib.colormaps.get_cmap()`` or ``pyplot.get_cmap()`` instead.\n",
      "  colors = pl.cm.get_cmap('Dark2')\n"
     ]
    }
   ],
   "source": [
    "#@title Utils\n",
    "pl.rcParams.update({'font.size': 12})\n",
    "pl.rc('axes', labelsize=14)\n",
    "pl.rcParams.update({\n",
    "    \"text.usetex\": False,\n",
    "})\n",
    "\n",
    "import matplotlib.colors as mcolors\n",
    "colors = pl.cm.get_cmap('Dark2')\n",
    "def np2pil(a):\n",
    "  if a.dtype in [np.float32, np.float64]:\n",
    "    a = np.uint8(np.clip(a, 0, 1)*255)\n",
    "  return PIL.Image.fromarray(a)\n",
    "\n",
    "def imwrite(f, a, fmt=None):\n",
    "  a = np.asarray(a)\n",
    "  if isinstance(f, str):\n",
    "    fmt = f.rsplit('.', 1)[-1].lower()\n",
    "    if fmt == 'jpg':\n",
    "      fmt = 'jpeg'\n",
    "    f = open(f, 'wb') #GFile.open(f, 'wb')\n",
    "  np2pil(a).save(f, fmt, quality=95)\n",
    "\n",
    "def imencode(a, fmt='jpeg'):\n",
    "  a = np.asarray(a)\n",
    "  if len(a.shape) == 3 and a.shape[-1] == 4:\n",
    "    fmt = 'png'\n",
    "  f = io.BytesIO()\n",
    "  imwrite(f, a, fmt)\n",
    "  return f.getvalue()\n",
    "\n",
    "def moving_average(x, w):\n",
    "    return np.convolve(x, np.ones(w), 'valid') / w\n",
    "\n",
    "def grab_plot(close=True):\n",
    "  \"\"\"Return the current Matplotlib figure as an image.\"\"\"\n",
    "  fig = pl.gcf()\n",
    "  fig.canvas.draw()\n",
    "  img = np.array(fig.canvas.renderer._renderer)\n",
    "  a = np.float32(img[..., 3:]/255.0)\n",
    "  img = np.uint8(255*(1.0-a) + img[...,:3] * a)  # alpha\n",
    "  if close:\n",
    "    pl.close()\n",
    "  return img\n",
    "\n",
    "def display_learning(train, test=None, gt=None, inter=None, title=\"train\", \n",
    "                     title1=\"Trained TF\", title2=\"Test\", \n",
    "                     title3='Gradient descent', title4='Interpolated',\n",
    "                     y_label1 = 'L2 Norm', y_label2 = 'Cosine sim',\n",
    "                     y_lim_l=0,  y_lim_u=1, single_seeds= False,\n",
    "                     plot_title = None,\n",
    "                     y_lim_u2= 1., y_lim_l2=0.,  x_label = 'Training steps',   \n",
    "                     second_axis=False, color_add=0, rw=10, num_iter_os=None, \n",
    "                     allow_download=False, plot_num=1, two_plots=False, \n",
    "                     loc_first = 'upper left', label_title=\"Loss\",\n",
    "                     loc_sec='upper left', yscale_log=False, line=\"-\",\n",
    "                     color_axis=True, \n",
    "                     height=3.5, width = 4, ax1=None, ax2=None):\n",
    "  \n",
    "  \"\"\"Update learning curve image.\"\"\"\n",
    "\n",
    "  train_list = train\n",
    "  train = np.array(train)\n",
    "  num_seeds_train = train.shape[0]\n",
    "  train_std = np.std(train, axis=0)\n",
    "  train = np.mean(train, axis=0)\n",
    "  \n",
    "  if test is not None:\n",
    "    test_list = test\n",
    "    test_std = np.std(test, axis=0)\n",
    "    test = np.mean(test, axis=0)\n",
    "\n",
    "  if gt is not None:\n",
    "    gt_list = gt\n",
    "    gt_std = np.std(gt, axis=0)\n",
    "    gt = np.mean(gt, axis=0)\n",
    "\n",
    "  if inter is not None:\n",
    "    inter_list = inter\n",
    "    inter_std = np.std(inter, axis=0)\n",
    "    inter = np.mean(inter, axis=0)\n",
    "\n",
    "  if plot_num == 1:\n",
    "    fig, ax1 = pl.subplots()\n",
    "    ax1.set_xlabel(x_label)\n",
    "    fig.set_size_inches(width, height)\n",
    "\n",
    "  \n",
    "  if test is not None and not second_axis:\n",
    "    x_range = np.arange(0, num_iter_os, int(num_iter_os/len(test)))\n",
    "    if len(test_list) > 1:\n",
    "      if single_seeds:\n",
    "        for s in test_list:\n",
    "          ax1.plot(x_range, s, color=colors(0.1+color_add), alpha=0.2, label=title2,linewidth='2')\n",
    "      else:\n",
    "        ax1.fill_between(x_range, test-test_std, test+test_std ,alpha=0.2, facecolor=colors(0.1+color_add))\n",
    "    ax1.plot(x_range, test, color=colors(0.1+color_add), label=title2,linewidth='3')\n",
    "    #test_avg = moving_average(test, rw)\n",
    "    #ax1.plot(x_range[:len(test_avg)], test_avg, color=colors(0.1+color_add), label=title2)\n",
    "      \n",
    "  if gt is not None:\n",
    "    if not second_axis:\n",
    "      x_range = np.arange(0, num_iter_os, int(num_iter_os/len(gt)))\n",
    "      #ax1.plot(x_range[:len(gt[:-rw])], gt[:-rw], color=colors(0.2+color_add), alpha=0.3)\n",
    "      #gt_avg = moving_average(gt, rw)\n",
    "      ax1.plot(x_range, gt, color=colors(0.2+color_add), label=title3,linewidth='3')\n",
    "      if len(gt_list) > 1:\n",
    "        if single_seeds:\n",
    "          for s in gt_list:\n",
    "            ax1.plot(x_range, s, color=colors(0.2+color_add), alpha=0.2, linewidth='2', zorder=0)\n",
    "        else:\n",
    "          ax1.fill_between(x_range, gt-gt_std, gt+gt_std,alpha=0.2, facecolor=colors(0.2+color_add))\n",
    "    else:\n",
    "      x_range = np.arange(0, num_iter_os, int(num_iter_os/len(gt)))\n",
    "      ax1.plot(x_range, gt, color=colors(0.6+color_add), label=title3,linewidth='3')\n",
    "      if len(gt_list) > 1:\n",
    "        if single_seeds:\n",
    "          for s in gt_list:\n",
    "            ax1.plot(x_range, s, color=colors(0.6+color_add), alpha=0.3, linewidth='2', zorder=0)\n",
    "        else:\n",
    "          ax1.fill_between(x_range, gt-gt_std, gt+gt_std ,alpha=0.2, facecolor=colors(0.6+color_add))\n",
    "\n",
    "  if test is not None and second_axis:\n",
    "    x_range = np.arange(0, num_iter_os, int(num_iter_os/len(test)))\n",
    "    ax1.plot(x_range, test, color=colors(0.5+color_add), label=title2,linewidth='3')\n",
    "    #test_avg = moving_average(test, rw)\n",
    "    #ax1.plot(x_range[:len(test_avg)],test_avg, color=colors(0.5+color_add))\n",
    "    if len(test_list) > 1:\n",
    "      if single_seeds:\n",
    "        for s in test_list:\n",
    "          ax1.plot(x_range, s, color=colors(0.5+color_add), linewidth='2', alpha=0.3, zorder=0)\n",
    "      else:\n",
    "        ax1.fill_between(x_range, test-test_std, test+test_std ,alpha=0.2, facecolor=colors(0.5+color_add))\n",
    "\n",
    "  if inter is not None and not second_axis:\n",
    "    x_range = np.arange(0, num_iter_os, int(num_iter_os/len(inter)))\n",
    "    ax1.plot(x_range, inter, color=colors(0.4+color_add), label=title4, linewidth='3', zorder=10)\n",
    "    if len(inter_list) > 1:\n",
    "      if single_seeds:\n",
    "        for s in inter_list:\n",
    "          ax1.plot(x_range, s, color=colors(0.4+color_add), alpha=0.3, linewidth='2', zorder=0)\n",
    "      else:\n",
    "        ax1.fill_between(x_range, inter-inter_std, inter+inter_std ,alpha=0.2, facecolor=colors(0.4+color_add), zorder=1)\n",
    "    #inter_avg = moving_average(inter, rw)\n",
    "    #ax1.plot(x_range[:len(inter_avg)], inter_avg, color=colors(0.7+color_add), label=title4)\n",
    "\n",
    "\n",
    "  if second_axis:\n",
    "    if ax2 is None:\n",
    "      ax2 = ax1.twinx()\n",
    "    ax2.set_zorder(0)\n",
    "    ax1.set_zorder(1)\n",
    "    ax1.set_frame_on(False)\n",
    "    #train_avg = moving_average(train, rw)\n",
    "    #ax2.plot(train[:-rw], color=colors(0.1+color_add), alpha=0.3)\n",
    "    ax2.plot(x_range, train, color=colors(0.4+color_add), label=title1, linewidth='3')\n",
    "    ax2.plot(x_range, np.ones_like(train), \"--\", color=\"gray\", linewidth='0.7')\n",
    "    if len(train_list) > 1:\n",
    "      if single_seeds:\n",
    "        for s in train_list:\n",
    "          print(x_range, s)\n",
    "          ax1.plot(x_range, s, line, color=colors(0.4+color_add), alpha=0.3, linewidth='2', zorder=0)\n",
    "      else:\n",
    "        ax2.fill_between(x_range, train-train_std, train+train_std ,alpha=0.2, facecolor=colors(0.4+color_add))\n",
    "\n",
    "    if color_axis:\n",
    "      ax2.yaxis.label.set_color(colors(0.4+color_add))\n",
    "    else:\n",
    "      legend2 = ax2.legend(loc='upper right', framealpha=0.99, facecolor='white')\n",
    "      legend2.set_zorder(100)\n",
    "    ax2.spines['top'].set_visible(False)\n",
    "  else:\n",
    "    #train_avg = moving_average(train, rw)\n",
    "    if line != \"-\":\n",
    "      ax1.scatter(x_range, train, s=[100 for _ in x_range], \n",
    "                  marker=\"+\", color=colors(0.3+color_add), alpha=1, label=title1, zorder=3, linewidths=3)\n",
    "    else:\n",
    "      ax1.plot(x_range, train, line, color=colors(0.3+color_add), label=title1, linewidth='3', zorder=11)\n",
    "    #ax1.plot(x_range[:len(train_avg)], train_avg, line, color=colors(0.3+color_add), label=title1)\n",
    "    if len(train_list) > 1:\n",
    "      if single_seeds:\n",
    "          for s in train_list:\n",
    "            ax1.plot(x_range, s, line, color=colors(0.3+color_add), alpha=0.3, linewidth='2', zorder=0)\n",
    "      else: \n",
    "        ax1.fill_between(x_range, train-train_std, train+train_std,\n",
    "                       alpha=0.5, facecolor=colors(0.3+color_add))\n",
    "\n",
    "    ax1.legend(loc='best', framealpha=1, facecolor='white')\n",
    "    ax1.spines['right'].set_visible(False)\n",
    "    legend = ax1.legend(loc='upper right', framealpha=0.99, facecolor='white')\n",
    "    legend.set_zorder(100)\n",
    "  \n",
    "  legend1 = ax1.legend(loc=loc_first, framealpha=0.99, facecolor='white')\n",
    "  legend1.set_zorder(100)\n",
    "  if second_axis:\n",
    "    ax2.set_ylabel(y_label2)\n",
    "    ax1.set_ylabel(y_label1)\n",
    "    ax1.set_ylim(y_lim_l, y_lim_u)\n",
    "    legend1 = ax1.legend(loc=loc_sec, framealpha=0.99, facecolor='white')\n",
    "    ax2.set_ylim(y_lim_l2, y_lim_u2)\n",
    "    ax1.set_ylim(bottom=0)\n",
    "  else:\n",
    "    pl.ylabel(label_title)\n",
    "    pl.ylim(y_lim_l, y_lim_u)\n",
    "  ax1.spines['top'].set_visible(False)\n",
    "  \n",
    "  if plot_title is not None:\n",
    "    pl.title(plot_title)\n",
    "    \n",
    "  if yscale_log:\n",
    "    ax1.set_yscale(\"log\")\n",
    "  #pl.title(title)\n",
    "  pl.tight_layout()\n",
    "\n",
    "  if allow_download:\n",
    "    if second_axis:\n",
    "      pl.savefig(\"sim.pdf\", format=\"pdf\")\n",
    "      %download_file sim.pdf\n",
    "    else:\n",
    "      pl.savefig(\"train.pdf\", format=\"pdf\")\n",
    "      %download_file train.pdf\n",
    "  else:\n",
    "    img = grab_plot()\n",
    "    display(Image(data=imencode(img, fmt='jpeg')), display_id=title)\n",
    "  "
   ]
  },
  {
   "cell_type": "code",
   "execution_count": 7,
   "id": "743a866d-eb6d-4cc1-bbb3-c4015926b199",
   "metadata": {
    "jupyter": {
     "source_hidden": true
    }
   },
   "outputs": [],
   "source": [
    "#@title Lists\n",
    "\n",
    "loss_trans_list =  [[]  for _ in range(config.num_seeds)]\n",
    "loss_trans_train_list =  [[]  for _ in range(config.num_seeds)]\n",
    "losses_gd_list =  [[]  for _ in range(config.num_seeds)]\n",
    "losses_gd_list_trained =  [[]  for _ in range(config.num_seeds)]\n",
    "losses_int_list_trained =  [[]  for _ in range(config.num_seeds)]\n",
    "cos_sim_list, cos_sim_list_o =  [[]  for _ in range(config.num_seeds)],  [[]  for _ in range(config.num_seeds)]\n",
    "grad_norm_list, grad_norm_list_o =  [[]  for _ in range(config.num_seeds)],  [[]  for _ in range(config.num_seeds)]\n",
    "p_norm_list, p_norm_list_o =  [[]  for _ in range(config.num_seeds)],  [[]  for _ in range(config.num_seeds)]\n",
    "\n",
    "cos_sim_list, cos_sim_list_o =  [[]  for _ in range(config.num_seeds)],  [[]  for _ in range(config.num_seeds)]\n",
    "grad_norm_list, grad_norm_list_o =  [[]  for _ in range(config.num_seeds)],  [[]  for _ in range(config.num_seeds)]\n",
    "p_norm_list, p_norm_list_o =  [[]  for _ in range(config.num_seeds)],  [[]  for _ in range(config.num_seeds)]\n",
    "\n",
    "ir_t_list = [[]  for _ in range(config.num_seeds)]\n",
    "ws_t_list = [[]  for _ in range(config.num_seeds)]\n",
    "ir_gd_list = [[]  for _ in range(config.num_seeds)]\n",
    "ws_gd_list = [[]  for _ in range(config.num_seeds)]\n",
    "\n",
    "ir_t_ood_list = [[]  for _ in range(config.num_seeds)]\n",
    "ws_t_ood_list = [[]  for _ in range(config.num_seeds)]\n",
    "ir_gd_ood_list = [[]  for _ in range(config.num_seeds)]\n",
    "ws_gd_ood_list = [[]  for _ in range(config.num_seeds)]\n",
    "\n",
    "ir_gd_trained_list = [[]  for _ in range(config.num_seeds)]\n",
    "ws_gd_trained_list = [[]  for _ in range(config.num_seeds)]\n",
    "ir_gd_ood_trained_list = [[]  for _ in range(config.num_seeds)]\n",
    "ws_gd_ood_trained_list = [[]  for _ in range(config.num_seeds)]\n",
    "\n",
    "ir_inter_list = [[]  for _ in range(config.num_seeds)]\n",
    "ws_inter_list = [[]  for _ in range(config.num_seeds)]\n",
    "ir_inter_ood_list = [[]  for _ in range(config.num_seeds)]\n",
    "ws_inter_ood_list = [[]  for _ in range(config.num_seeds)]\n",
    "\n",
    "\n",
    "losses_noisy_list = [[]  for _ in range(config.num_seeds)]\n",
    "losses_gd_noisy_list = [[]  for _ in range(config.num_seeds)]\n",
    "losses_gd_noisy_trained_list = [[]  for _ in range(config.num_seeds)]\n",
    "losses_inter_noisy_list = [[]  for _ in range(config.num_seeds)]"
   ]
  },
  {
   "cell_type": "code",
   "execution_count": 8,
   "id": "f468e3e1-448d-481a-81fb-c4c1d5785e3a",
   "metadata": {
    "jupyter": {
     "source_hidden": true
    }
   },
   "outputs": [],
   "source": [
    "#@title Logic how to interpolate weights\n",
    "def interpolate_weights(train_state, params_gd, deq=False):\n",
    "  if (config.num_heads == 1 and \n",
    "      config.sum_norm == False and config.deq == True and\n",
    "      config.layer_norm == False and config.att_only_trans == True):\n",
    "\n",
    "    cur_train_params = {k.replace('transformer', 'Transformer_gd'):v.copy() for \n",
    "                    k,v in train_state.params.items()}\n",
    "\n",
    "    inter_params = {k.replace('transformer', 'Transformer_gd'): {'w': jnp.zeros_like(v['w'])} for \n",
    "                    k,v in train_state.params.items()}\n",
    "\n",
    "    for k,v in cur_train_params.items():\n",
    "      if \"key\" in k:\n",
    "        key_gd  = params_gd[k]['w'].copy() \n",
    "        key  = cur_train_params[k]['w'].copy()\n",
    "      if \"linear\" in k:\n",
    "        linear_gd = params_gd[k]['w'].copy() \n",
    "        linear = cur_train_params[k]['w'].copy() \n",
    "      if \"query\" in k:\n",
    "        query_gd = params_gd[k]['w'].copy() \n",
    "        query = cur_train_params[k]['w'].copy() \n",
    "      if \"value\" in k:\n",
    "        value_gd = params_gd[k]['w'].copy() \n",
    "        value = cur_train_params[k]['w'].copy()        \n",
    "        \n",
    "        query = jnp.matmul(query, key.T)\n",
    "        #print(query)\n",
    "        key = jnp.identity(query.shape[0])\n",
    "        mean = np.mean([query[a, a] for a in range(query.shape[0]-1)])\n",
    "        query = query/mean\n",
    "        query_gd = jnp.matmul(query_gd, key.T)\n",
    "        key_gd = jnp.identity(query.shape[0])\n",
    "        query = (query + query_gd)/2\n",
    "\n",
    "        linear = jnp.matmul(value, linear)\n",
    "        #print(linear)\n",
    "        value = jnp.identity(query.shape[0])\n",
    "        linear = linear*mean\n",
    "        linear_gd = jnp.matmul(value_gd, linear_gd)\n",
    "        value_gd = jnp.identity(query.shape[0])\n",
    "        linear = (linear + linear_gd)/2    \n",
    "\n",
    "        inter_params[k.replace('value', 'linear')]['w'] = linear\n",
    "        inter_params[k.replace('value', 'value')]['w'] = value\n",
    "        inter_params[k.replace('value', 'query')]['w'] = query\n",
    "        inter_params[k.replace('value', 'key')]['w'] = key\n",
    "\n",
    "    losses_int, _, _ = predict_test.apply(inter_params, eval_rng, eval_data, True)\n",
    "  else:\n",
    "    losses_int = None\n",
    "    inter_params = None\n",
    "  return losses_int, inter_params"
   ]
  },
  {
   "cell_type": "code",
   "execution_count": 9,
   "id": "2576327a-9a0a-468f-aec2-ae577cc239bd",
   "metadata": {
    "scrolled": true
   },
   "outputs": [
    {
     "name": "stdout",
     "output_type": "stream",
     "text": [
      "Best lr found for  1  steps of gradient descent:  0.46675000000000005  with loss  0.31528467\n"
     ]
    },
    {
     "data": {
      "text/plain": [
       "('Current seed',\n",
       " 0,\n",
       " 'Training step',\n",
       " 4900,\n",
       " 'Gradient descent loss',\n",
       " 0.3152846693992615,\n",
       " 'GD ++ loss',\n",
       " 0.3152846693992615,\n",
       " 'Trained TF loss',\n",
       " 0.31586289405822754,\n",
       " 'Interpolated model loss',\n",
       " 0.3153475224971771,\n",
       " 'Cosine sim TF vs GD',\n",
       " 0.9987449049949646,\n",
       " 'Cosine sim TF vs GD++',\n",
       " '-')"
      ]
     },
     "metadata": {},
     "output_type": "display_data"
    },
    {
     "data": {
      "text/plain": [
       "('Current seed',\n",
       " 0,\n",
       " 'Training step',\n",
       " 4900,\n",
       " 'Gradient descent loss',\n",
       " 0.3152846693992615,\n",
       " 'GD ++ loss',\n",
       " 0.3152846693992615,\n",
       " 'Trained TF loss',\n",
       " 0.31586289405822754,\n",
       " 'Interpolated model loss',\n",
       " 0.3153475224971771,\n",
       " 'Cosine sim TF vs GD',\n",
       " 0.9987449049949646,\n",
       " 'Cosine sim TF vs GD++',\n",
       " '-')"
      ]
     },
     "metadata": {},
     "output_type": "display_data"
    },
    {
     "data": {
      "text/plain": [
       "('Current seed',\n",
       " 0,\n",
       " 'Training step',\n",
       " 4900,\n",
       " 'Gradient descent loss',\n",
       " 0.3152846693992615,\n",
       " 'GD ++ loss',\n",
       " 0.3152846693992615,\n",
       " 'Trained TF loss',\n",
       " 0.31586289405822754,\n",
       " 'Interpolated model loss',\n",
       " 0.3153475224971771,\n",
       " 'Cosine sim TF vs GD',\n",
       " 0.9987449049949646,\n",
       " 'Cosine sim TF vs GD++',\n",
       " '-')"
      ]
     },
     "metadata": {},
     "output_type": "display_data"
    },
    {
     "data": {
      "text/plain": [
       "('Current seed',\n",
       " 0,\n",
       " 'Training step',\n",
       " 4900,\n",
       " 'Gradient descent loss',\n",
       " 0.3152846693992615,\n",
       " 'GD ++ loss',\n",
       " 0.3152846693992615,\n",
       " 'Trained TF loss',\n",
       " 0.31586289405822754,\n",
       " 'Interpolated model loss',\n",
       " 0.3153475224971771,\n",
       " 'Cosine sim TF vs GD',\n",
       " 0.9987449049949646,\n",
       " 'Cosine sim TF vs GD++',\n",
       " '-')"
      ]
     },
     "metadata": {},
     "output_type": "display_data"
    },
    {
     "data": {
      "text/plain": [
       "('Current seed',\n",
       " 0,\n",
       " 'Training step',\n",
       " 4900,\n",
       " 'Gradient descent loss',\n",
       " 0.3152846693992615,\n",
       " 'GD ++ loss',\n",
       " 0.3152846693992615,\n",
       " 'Trained TF loss',\n",
       " 0.31586289405822754,\n",
       " 'Interpolated model loss',\n",
       " 0.3153475224971771,\n",
       " 'Cosine sim TF vs GD',\n",
       " 0.9987449049949646,\n",
       " 'Cosine sim TF vs GD++',\n",
       " '-')"
      ]
     },
     "metadata": {},
     "output_type": "display_data"
    },
    {
     "data": {
      "text/plain": [
       "('Current seed',\n",
       " 0,\n",
       " 'Training step',\n",
       " 4900,\n",
       " 'Gradient descent loss',\n",
       " 0.3152846693992615,\n",
       " 'GD ++ loss',\n",
       " 0.3152846693992615,\n",
       " 'Trained TF loss',\n",
       " 0.31586289405822754,\n",
       " 'Interpolated model loss',\n",
       " 0.3153475224971771,\n",
       " 'Cosine sim TF vs GD',\n",
       " 0.9987449049949646,\n",
       " 'Cosine sim TF vs GD++',\n",
       " '-')"
      ]
     },
     "metadata": {},
     "output_type": "display_data"
    },
    {
     "data": {
      "text/plain": [
       "('Current seed',\n",
       " 0,\n",
       " 'Training step',\n",
       " 4900,\n",
       " 'Gradient descent loss',\n",
       " 0.3152846693992615,\n",
       " 'GD ++ loss',\n",
       " 0.3152846693992615,\n",
       " 'Trained TF loss',\n",
       " 0.31586289405822754,\n",
       " 'Interpolated model loss',\n",
       " 0.3153475224971771,\n",
       " 'Cosine sim TF vs GD',\n",
       " 0.9987449049949646,\n",
       " 'Cosine sim TF vs GD++',\n",
       " '-')"
      ]
     },
     "metadata": {},
     "output_type": "display_data"
    },
    {
     "data": {
      "text/plain": [
       "('Current seed',\n",
       " 0,\n",
       " 'Training step',\n",
       " 4900,\n",
       " 'Gradient descent loss',\n",
       " 0.3152846693992615,\n",
       " 'GD ++ loss',\n",
       " 0.3152846693992615,\n",
       " 'Trained TF loss',\n",
       " 0.31586289405822754,\n",
       " 'Interpolated model loss',\n",
       " 0.3153475224971771,\n",
       " 'Cosine sim TF vs GD',\n",
       " 0.9987449049949646,\n",
       " 'Cosine sim TF vs GD++',\n",
       " '-')"
      ]
     },
     "metadata": {},
     "output_type": "display_data"
    },
    {
     "data": {
      "text/plain": [
       "('Current seed',\n",
       " 0,\n",
       " 'Training step',\n",
       " 4900,\n",
       " 'Gradient descent loss',\n",
       " 0.3152846693992615,\n",
       " 'GD ++ loss',\n",
       " 0.3152846693992615,\n",
       " 'Trained TF loss',\n",
       " 0.31586289405822754,\n",
       " 'Interpolated model loss',\n",
       " 0.3153475224971771,\n",
       " 'Cosine sim TF vs GD',\n",
       " 0.9987449049949646,\n",
       " 'Cosine sim TF vs GD++',\n",
       " '-')"
      ]
     },
     "metadata": {},
     "output_type": "display_data"
    },
    {
     "data": {
      "text/plain": [
       "('Current seed',\n",
       " 0,\n",
       " 'Training step',\n",
       " 4900,\n",
       " 'Gradient descent loss',\n",
       " 0.3152846693992615,\n",
       " 'GD ++ loss',\n",
       " 0.3152846693992615,\n",
       " 'Trained TF loss',\n",
       " 0.31586289405822754,\n",
       " 'Interpolated model loss',\n",
       " 0.3153475224971771,\n",
       " 'Cosine sim TF vs GD',\n",
       " 0.9987449049949646,\n",
       " 'Cosine sim TF vs GD++',\n",
       " '-')"
      ]
     },
     "metadata": {},
     "output_type": "display_data"
    },
    {
     "data": {
      "text/plain": [
       "('Current seed',\n",
       " 0,\n",
       " 'Training step',\n",
       " 4900,\n",
       " 'Gradient descent loss',\n",
       " 0.3152846693992615,\n",
       " 'GD ++ loss',\n",
       " 0.3152846693992615,\n",
       " 'Trained TF loss',\n",
       " 0.31586289405822754,\n",
       " 'Interpolated model loss',\n",
       " 0.3153475224971771,\n",
       " 'Cosine sim TF vs GD',\n",
       " 0.9987449049949646,\n",
       " 'Cosine sim TF vs GD++',\n",
       " '-')"
      ]
     },
     "metadata": {},
     "output_type": "display_data"
    },
    {
     "data": {
      "text/plain": [
       "('Current seed',\n",
       " 0,\n",
       " 'Training step',\n",
       " 4900,\n",
       " 'Gradient descent loss',\n",
       " 0.3152846693992615,\n",
       " 'GD ++ loss',\n",
       " 0.3152846693992615,\n",
       " 'Trained TF loss',\n",
       " 0.31586289405822754,\n",
       " 'Interpolated model loss',\n",
       " 0.3153475224971771,\n",
       " 'Cosine sim TF vs GD',\n",
       " 0.9987449049949646,\n",
       " 'Cosine sim TF vs GD++',\n",
       " '-')"
      ]
     },
     "metadata": {},
     "output_type": "display_data"
    },
    {
     "data": {
      "text/plain": [
       "('Current seed',\n",
       " 0,\n",
       " 'Training step',\n",
       " 4900,\n",
       " 'Gradient descent loss',\n",
       " 0.3152846693992615,\n",
       " 'GD ++ loss',\n",
       " 0.3152846693992615,\n",
       " 'Trained TF loss',\n",
       " 0.31586289405822754,\n",
       " 'Interpolated model loss',\n",
       " 0.3153475224971771,\n",
       " 'Cosine sim TF vs GD',\n",
       " 0.9987449049949646,\n",
       " 'Cosine sim TF vs GD++',\n",
       " '-')"
      ]
     },
     "metadata": {},
     "output_type": "display_data"
    },
    {
     "data": {
      "text/plain": [
       "('Current seed',\n",
       " 0,\n",
       " 'Training step',\n",
       " 4900,\n",
       " 'Gradient descent loss',\n",
       " 0.3152846693992615,\n",
       " 'GD ++ loss',\n",
       " 0.3152846693992615,\n",
       " 'Trained TF loss',\n",
       " 0.31586289405822754,\n",
       " 'Interpolated model loss',\n",
       " 0.3153475224971771,\n",
       " 'Cosine sim TF vs GD',\n",
       " 0.9987449049949646,\n",
       " 'Cosine sim TF vs GD++',\n",
       " '-')"
      ]
     },
     "metadata": {},
     "output_type": "display_data"
    },
    {
     "data": {
      "text/plain": [
       "('Current seed',\n",
       " 0,\n",
       " 'Training step',\n",
       " 4900,\n",
       " 'Gradient descent loss',\n",
       " 0.3152846693992615,\n",
       " 'GD ++ loss',\n",
       " 0.3152846693992615,\n",
       " 'Trained TF loss',\n",
       " 0.31586289405822754,\n",
       " 'Interpolated model loss',\n",
       " 0.3153475224971771,\n",
       " 'Cosine sim TF vs GD',\n",
       " 0.9987449049949646,\n",
       " 'Cosine sim TF vs GD++',\n",
       " '-')"
      ]
     },
     "metadata": {},
     "output_type": "display_data"
    },
    {
     "data": {
      "text/plain": [
       "('Current seed',\n",
       " 0,\n",
       " 'Training step',\n",
       " 4900,\n",
       " 'Gradient descent loss',\n",
       " 0.3152846693992615,\n",
       " 'GD ++ loss',\n",
       " 0.3152846693992615,\n",
       " 'Trained TF loss',\n",
       " 0.31586289405822754,\n",
       " 'Interpolated model loss',\n",
       " 0.3153475224971771,\n",
       " 'Cosine sim TF vs GD',\n",
       " 0.9987449049949646,\n",
       " 'Cosine sim TF vs GD++',\n",
       " '-')"
      ]
     },
     "metadata": {},
     "output_type": "display_data"
    },
    {
     "data": {
      "text/plain": [
       "('Current seed',\n",
       " 0,\n",
       " 'Training step',\n",
       " 4900,\n",
       " 'Gradient descent loss',\n",
       " 0.3152846693992615,\n",
       " 'GD ++ loss',\n",
       " 0.3152846693992615,\n",
       " 'Trained TF loss',\n",
       " 0.31586289405822754,\n",
       " 'Interpolated model loss',\n",
       " 0.3153475224971771,\n",
       " 'Cosine sim TF vs GD',\n",
       " 0.9987449049949646,\n",
       " 'Cosine sim TF vs GD++',\n",
       " '-')"
      ]
     },
     "metadata": {},
     "output_type": "display_data"
    },
    {
     "data": {
      "text/plain": [
       "('Current seed',\n",
       " 0,\n",
       " 'Training step',\n",
       " 4900,\n",
       " 'Gradient descent loss',\n",
       " 0.3152846693992615,\n",
       " 'GD ++ loss',\n",
       " 0.3152846693992615,\n",
       " 'Trained TF loss',\n",
       " 0.31586289405822754,\n",
       " 'Interpolated model loss',\n",
       " 0.3153475224971771,\n",
       " 'Cosine sim TF vs GD',\n",
       " 0.9987449049949646,\n",
       " 'Cosine sim TF vs GD++',\n",
       " '-')"
      ]
     },
     "metadata": {},
     "output_type": "display_data"
    },
    {
     "data": {
      "text/plain": [
       "('Current seed',\n",
       " 0,\n",
       " 'Training step',\n",
       " 4900,\n",
       " 'Gradient descent loss',\n",
       " 0.3152846693992615,\n",
       " 'GD ++ loss',\n",
       " 0.3152846693992615,\n",
       " 'Trained TF loss',\n",
       " 0.31586289405822754,\n",
       " 'Interpolated model loss',\n",
       " 0.3153475224971771,\n",
       " 'Cosine sim TF vs GD',\n",
       " 0.9987449049949646,\n",
       " 'Cosine sim TF vs GD++',\n",
       " '-')"
      ]
     },
     "metadata": {},
     "output_type": "display_data"
    },
    {
     "data": {
      "text/plain": [
       "('Current seed',\n",
       " 0,\n",
       " 'Training step',\n",
       " 4900,\n",
       " 'Gradient descent loss',\n",
       " 0.3152846693992615,\n",
       " 'GD ++ loss',\n",
       " 0.3152846693992615,\n",
       " 'Trained TF loss',\n",
       " 0.31586289405822754,\n",
       " 'Interpolated model loss',\n",
       " 0.3153475224971771,\n",
       " 'Cosine sim TF vs GD',\n",
       " 0.9987449049949646,\n",
       " 'Cosine sim TF vs GD++',\n",
       " '-')"
      ]
     },
     "metadata": {},
     "output_type": "display_data"
    },
    {
     "data": {
      "text/plain": [
       "('Current seed',\n",
       " 0,\n",
       " 'Training step',\n",
       " 4900,\n",
       " 'Gradient descent loss',\n",
       " 0.3152846693992615,\n",
       " 'GD ++ loss',\n",
       " 0.3152846693992615,\n",
       " 'Trained TF loss',\n",
       " 0.31586289405822754,\n",
       " 'Interpolated model loss',\n",
       " 0.3153475224971771,\n",
       " 'Cosine sim TF vs GD',\n",
       " 0.9987449049949646,\n",
       " 'Cosine sim TF vs GD++',\n",
       " '-')"
      ]
     },
     "metadata": {},
     "output_type": "display_data"
    },
    {
     "data": {
      "text/plain": [
       "('Current seed',\n",
       " 0,\n",
       " 'Training step',\n",
       " 4900,\n",
       " 'Gradient descent loss',\n",
       " 0.3152846693992615,\n",
       " 'GD ++ loss',\n",
       " 0.3152846693992615,\n",
       " 'Trained TF loss',\n",
       " 0.31586289405822754,\n",
       " 'Interpolated model loss',\n",
       " 0.3153475224971771,\n",
       " 'Cosine sim TF vs GD',\n",
       " 0.9987449049949646,\n",
       " 'Cosine sim TF vs GD++',\n",
       " '-')"
      ]
     },
     "metadata": {},
     "output_type": "display_data"
    },
    {
     "data": {
      "text/plain": [
       "('Current seed',\n",
       " 0,\n",
       " 'Training step',\n",
       " 4900,\n",
       " 'Gradient descent loss',\n",
       " 0.3152846693992615,\n",
       " 'GD ++ loss',\n",
       " 0.3152846693992615,\n",
       " 'Trained TF loss',\n",
       " 0.31586289405822754,\n",
       " 'Interpolated model loss',\n",
       " 0.3153475224971771,\n",
       " 'Cosine sim TF vs GD',\n",
       " 0.9987449049949646,\n",
       " 'Cosine sim TF vs GD++',\n",
       " '-')"
      ]
     },
     "metadata": {},
     "output_type": "display_data"
    },
    {
     "data": {
      "text/plain": [
       "('Current seed',\n",
       " 0,\n",
       " 'Training step',\n",
       " 4900,\n",
       " 'Gradient descent loss',\n",
       " 0.3152846693992615,\n",
       " 'GD ++ loss',\n",
       " 0.3152846693992615,\n",
       " 'Trained TF loss',\n",
       " 0.31586289405822754,\n",
       " 'Interpolated model loss',\n",
       " 0.3153475224971771,\n",
       " 'Cosine sim TF vs GD',\n",
       " 0.9987449049949646,\n",
       " 'Cosine sim TF vs GD++',\n",
       " '-')"
      ]
     },
     "metadata": {},
     "output_type": "display_data"
    },
    {
     "data": {
      "text/plain": [
       "('Current seed',\n",
       " 0,\n",
       " 'Training step',\n",
       " 4900,\n",
       " 'Gradient descent loss',\n",
       " 0.3152846693992615,\n",
       " 'GD ++ loss',\n",
       " 0.3152846693992615,\n",
       " 'Trained TF loss',\n",
       " 0.31586289405822754,\n",
       " 'Interpolated model loss',\n",
       " 0.3153475224971771,\n",
       " 'Cosine sim TF vs GD',\n",
       " 0.9987449049949646,\n",
       " 'Cosine sim TF vs GD++',\n",
       " '-')"
      ]
     },
     "metadata": {},
     "output_type": "display_data"
    },
    {
     "data": {
      "text/plain": [
       "('Current seed',\n",
       " 0,\n",
       " 'Training step',\n",
       " 4900,\n",
       " 'Gradient descent loss',\n",
       " 0.3152846693992615,\n",
       " 'GD ++ loss',\n",
       " 0.3152846693992615,\n",
       " 'Trained TF loss',\n",
       " 0.31586289405822754,\n",
       " 'Interpolated model loss',\n",
       " 0.3153475224971771,\n",
       " 'Cosine sim TF vs GD',\n",
       " 0.9987449049949646,\n",
       " 'Cosine sim TF vs GD++',\n",
       " '-')"
      ]
     },
     "metadata": {},
     "output_type": "display_data"
    },
    {
     "data": {
      "text/plain": [
       "('Current seed',\n",
       " 0,\n",
       " 'Training step',\n",
       " 4900,\n",
       " 'Gradient descent loss',\n",
       " 0.3152846693992615,\n",
       " 'GD ++ loss',\n",
       " 0.3152846693992615,\n",
       " 'Trained TF loss',\n",
       " 0.31586289405822754,\n",
       " 'Interpolated model loss',\n",
       " 0.3153475224971771,\n",
       " 'Cosine sim TF vs GD',\n",
       " 0.9987449049949646,\n",
       " 'Cosine sim TF vs GD++',\n",
       " '-')"
      ]
     },
     "metadata": {},
     "output_type": "display_data"
    },
    {
     "data": {
      "text/plain": [
       "('Current seed',\n",
       " 0,\n",
       " 'Training step',\n",
       " 4900,\n",
       " 'Gradient descent loss',\n",
       " 0.3152846693992615,\n",
       " 'GD ++ loss',\n",
       " 0.3152846693992615,\n",
       " 'Trained TF loss',\n",
       " 0.31586289405822754,\n",
       " 'Interpolated model loss',\n",
       " 0.3153475224971771,\n",
       " 'Cosine sim TF vs GD',\n",
       " 0.9987449049949646,\n",
       " 'Cosine sim TF vs GD++',\n",
       " '-')"
      ]
     },
     "metadata": {},
     "output_type": "display_data"
    },
    {
     "data": {
      "text/plain": [
       "('Current seed',\n",
       " 0,\n",
       " 'Training step',\n",
       " 4900,\n",
       " 'Gradient descent loss',\n",
       " 0.3152846693992615,\n",
       " 'GD ++ loss',\n",
       " 0.3152846693992615,\n",
       " 'Trained TF loss',\n",
       " 0.31586289405822754,\n",
       " 'Interpolated model loss',\n",
       " 0.3153475224971771,\n",
       " 'Cosine sim TF vs GD',\n",
       " 0.9987449049949646,\n",
       " 'Cosine sim TF vs GD++',\n",
       " '-')"
      ]
     },
     "metadata": {},
     "output_type": "display_data"
    },
    {
     "data": {
      "text/plain": [
       "('Current seed',\n",
       " 0,\n",
       " 'Training step',\n",
       " 4900,\n",
       " 'Gradient descent loss',\n",
       " 0.3152846693992615,\n",
       " 'GD ++ loss',\n",
       " 0.3152846693992615,\n",
       " 'Trained TF loss',\n",
       " 0.31586289405822754,\n",
       " 'Interpolated model loss',\n",
       " 0.3153475224971771,\n",
       " 'Cosine sim TF vs GD',\n",
       " 0.9987449049949646,\n",
       " 'Cosine sim TF vs GD++',\n",
       " '-')"
      ]
     },
     "metadata": {},
     "output_type": "display_data"
    },
    {
     "data": {
      "text/plain": [
       "('Current seed',\n",
       " 0,\n",
       " 'Training step',\n",
       " 4900,\n",
       " 'Gradient descent loss',\n",
       " 0.3152846693992615,\n",
       " 'GD ++ loss',\n",
       " 0.3152846693992615,\n",
       " 'Trained TF loss',\n",
       " 0.31586289405822754,\n",
       " 'Interpolated model loss',\n",
       " 0.3153475224971771,\n",
       " 'Cosine sim TF vs GD',\n",
       " 0.9987449049949646,\n",
       " 'Cosine sim TF vs GD++',\n",
       " '-')"
      ]
     },
     "metadata": {},
     "output_type": "display_data"
    },
    {
     "data": {
      "text/plain": [
       "('Current seed',\n",
       " 0,\n",
       " 'Training step',\n",
       " 4900,\n",
       " 'Gradient descent loss',\n",
       " 0.3152846693992615,\n",
       " 'GD ++ loss',\n",
       " 0.3152846693992615,\n",
       " 'Trained TF loss',\n",
       " 0.31586289405822754,\n",
       " 'Interpolated model loss',\n",
       " 0.3153475224971771,\n",
       " 'Cosine sim TF vs GD',\n",
       " 0.9987449049949646,\n",
       " 'Cosine sim TF vs GD++',\n",
       " '-')"
      ]
     },
     "metadata": {},
     "output_type": "display_data"
    },
    {
     "data": {
      "text/plain": [
       "('Current seed',\n",
       " 0,\n",
       " 'Training step',\n",
       " 4900,\n",
       " 'Gradient descent loss',\n",
       " 0.3152846693992615,\n",
       " 'GD ++ loss',\n",
       " 0.3152846693992615,\n",
       " 'Trained TF loss',\n",
       " 0.31586289405822754,\n",
       " 'Interpolated model loss',\n",
       " 0.3153475224971771,\n",
       " 'Cosine sim TF vs GD',\n",
       " 0.9987449049949646,\n",
       " 'Cosine sim TF vs GD++',\n",
       " '-')"
      ]
     },
     "metadata": {},
     "output_type": "display_data"
    },
    {
     "data": {
      "text/plain": [
       "('Current seed',\n",
       " 0,\n",
       " 'Training step',\n",
       " 4900,\n",
       " 'Gradient descent loss',\n",
       " 0.3152846693992615,\n",
       " 'GD ++ loss',\n",
       " 0.3152846693992615,\n",
       " 'Trained TF loss',\n",
       " 0.31586289405822754,\n",
       " 'Interpolated model loss',\n",
       " 0.3153475224971771,\n",
       " 'Cosine sim TF vs GD',\n",
       " 0.9987449049949646,\n",
       " 'Cosine sim TF vs GD++',\n",
       " '-')"
      ]
     },
     "metadata": {},
     "output_type": "display_data"
    },
    {
     "data": {
      "text/plain": [
       "('Current seed',\n",
       " 0,\n",
       " 'Training step',\n",
       " 4900,\n",
       " 'Gradient descent loss',\n",
       " 0.3152846693992615,\n",
       " 'GD ++ loss',\n",
       " 0.3152846693992615,\n",
       " 'Trained TF loss',\n",
       " 0.31586289405822754,\n",
       " 'Interpolated model loss',\n",
       " 0.3153475224971771,\n",
       " 'Cosine sim TF vs GD',\n",
       " 0.9987449049949646,\n",
       " 'Cosine sim TF vs GD++',\n",
       " '-')"
      ]
     },
     "metadata": {},
     "output_type": "display_data"
    },
    {
     "data": {
      "text/plain": [
       "('Current seed',\n",
       " 0,\n",
       " 'Training step',\n",
       " 4900,\n",
       " 'Gradient descent loss',\n",
       " 0.3152846693992615,\n",
       " 'GD ++ loss',\n",
       " 0.3152846693992615,\n",
       " 'Trained TF loss',\n",
       " 0.31586289405822754,\n",
       " 'Interpolated model loss',\n",
       " 0.3153475224971771,\n",
       " 'Cosine sim TF vs GD',\n",
       " 0.9987449049949646,\n",
       " 'Cosine sim TF vs GD++',\n",
       " '-')"
      ]
     },
     "metadata": {},
     "output_type": "display_data"
    },
    {
     "data": {
      "text/plain": [
       "('Current seed',\n",
       " 0,\n",
       " 'Training step',\n",
       " 4900,\n",
       " 'Gradient descent loss',\n",
       " 0.3152846693992615,\n",
       " 'GD ++ loss',\n",
       " 0.3152846693992615,\n",
       " 'Trained TF loss',\n",
       " 0.31586289405822754,\n",
       " 'Interpolated model loss',\n",
       " 0.3153475224971771,\n",
       " 'Cosine sim TF vs GD',\n",
       " 0.9987449049949646,\n",
       " 'Cosine sim TF vs GD++',\n",
       " '-')"
      ]
     },
     "metadata": {},
     "output_type": "display_data"
    },
    {
     "data": {
      "text/plain": [
       "('Current seed',\n",
       " 0,\n",
       " 'Training step',\n",
       " 4900,\n",
       " 'Gradient descent loss',\n",
       " 0.3152846693992615,\n",
       " 'GD ++ loss',\n",
       " 0.3152846693992615,\n",
       " 'Trained TF loss',\n",
       " 0.31586289405822754,\n",
       " 'Interpolated model loss',\n",
       " 0.3153475224971771,\n",
       " 'Cosine sim TF vs GD',\n",
       " 0.9987449049949646,\n",
       " 'Cosine sim TF vs GD++',\n",
       " '-')"
      ]
     },
     "metadata": {},
     "output_type": "display_data"
    },
    {
     "data": {
      "text/plain": [
       "('Current seed',\n",
       " 0,\n",
       " 'Training step',\n",
       " 4900,\n",
       " 'Gradient descent loss',\n",
       " 0.3152846693992615,\n",
       " 'GD ++ loss',\n",
       " 0.3152846693992615,\n",
       " 'Trained TF loss',\n",
       " 0.31586289405822754,\n",
       " 'Interpolated model loss',\n",
       " 0.3153475224971771,\n",
       " 'Cosine sim TF vs GD',\n",
       " 0.9987449049949646,\n",
       " 'Cosine sim TF vs GD++',\n",
       " '-')"
      ]
     },
     "metadata": {},
     "output_type": "display_data"
    },
    {
     "data": {
      "text/plain": [
       "('Current seed',\n",
       " 0,\n",
       " 'Training step',\n",
       " 4900,\n",
       " 'Gradient descent loss',\n",
       " 0.3152846693992615,\n",
       " 'GD ++ loss',\n",
       " 0.3152846693992615,\n",
       " 'Trained TF loss',\n",
       " 0.31586289405822754,\n",
       " 'Interpolated model loss',\n",
       " 0.3153475224971771,\n",
       " 'Cosine sim TF vs GD',\n",
       " 0.9987449049949646,\n",
       " 'Cosine sim TF vs GD++',\n",
       " '-')"
      ]
     },
     "metadata": {},
     "output_type": "display_data"
    },
    {
     "data": {
      "text/plain": [
       "('Current seed',\n",
       " 0,\n",
       " 'Training step',\n",
       " 4900,\n",
       " 'Gradient descent loss',\n",
       " 0.3152846693992615,\n",
       " 'GD ++ loss',\n",
       " 0.3152846693992615,\n",
       " 'Trained TF loss',\n",
       " 0.31586289405822754,\n",
       " 'Interpolated model loss',\n",
       " 0.3153475224971771,\n",
       " 'Cosine sim TF vs GD',\n",
       " 0.9987449049949646,\n",
       " 'Cosine sim TF vs GD++',\n",
       " '-')"
      ]
     },
     "metadata": {},
     "output_type": "display_data"
    },
    {
     "data": {
      "text/plain": [
       "('Current seed',\n",
       " 0,\n",
       " 'Training step',\n",
       " 4900,\n",
       " 'Gradient descent loss',\n",
       " 0.3152846693992615,\n",
       " 'GD ++ loss',\n",
       " 0.3152846693992615,\n",
       " 'Trained TF loss',\n",
       " 0.31586289405822754,\n",
       " 'Interpolated model loss',\n",
       " 0.3153475224971771,\n",
       " 'Cosine sim TF vs GD',\n",
       " 0.9987449049949646,\n",
       " 'Cosine sim TF vs GD++',\n",
       " '-')"
      ]
     },
     "metadata": {},
     "output_type": "display_data"
    },
    {
     "data": {
      "text/plain": [
       "('Current seed',\n",
       " 0,\n",
       " 'Training step',\n",
       " 4900,\n",
       " 'Gradient descent loss',\n",
       " 0.3152846693992615,\n",
       " 'GD ++ loss',\n",
       " 0.3152846693992615,\n",
       " 'Trained TF loss',\n",
       " 0.31586289405822754,\n",
       " 'Interpolated model loss',\n",
       " 0.3153475224971771,\n",
       " 'Cosine sim TF vs GD',\n",
       " 0.9987449049949646,\n",
       " 'Cosine sim TF vs GD++',\n",
       " '-')"
      ]
     },
     "metadata": {},
     "output_type": "display_data"
    },
    {
     "data": {
      "text/plain": [
       "('Current seed',\n",
       " 0,\n",
       " 'Training step',\n",
       " 4900,\n",
       " 'Gradient descent loss',\n",
       " 0.3152846693992615,\n",
       " 'GD ++ loss',\n",
       " 0.3152846693992615,\n",
       " 'Trained TF loss',\n",
       " 0.31586289405822754,\n",
       " 'Interpolated model loss',\n",
       " 0.3153475224971771,\n",
       " 'Cosine sim TF vs GD',\n",
       " 0.9987449049949646,\n",
       " 'Cosine sim TF vs GD++',\n",
       " '-')"
      ]
     },
     "metadata": {},
     "output_type": "display_data"
    },
    {
     "data": {
      "text/plain": [
       "('Current seed',\n",
       " 0,\n",
       " 'Training step',\n",
       " 4900,\n",
       " 'Gradient descent loss',\n",
       " 0.3152846693992615,\n",
       " 'GD ++ loss',\n",
       " 0.3152846693992615,\n",
       " 'Trained TF loss',\n",
       " 0.31586289405822754,\n",
       " 'Interpolated model loss',\n",
       " 0.3153475224971771,\n",
       " 'Cosine sim TF vs GD',\n",
       " 0.9987449049949646,\n",
       " 'Cosine sim TF vs GD++',\n",
       " '-')"
      ]
     },
     "metadata": {},
     "output_type": "display_data"
    },
    {
     "data": {
      "text/plain": [
       "('Current seed',\n",
       " 0,\n",
       " 'Training step',\n",
       " 4900,\n",
       " 'Gradient descent loss',\n",
       " 0.3152846693992615,\n",
       " 'GD ++ loss',\n",
       " 0.3152846693992615,\n",
       " 'Trained TF loss',\n",
       " 0.31586289405822754,\n",
       " 'Interpolated model loss',\n",
       " 0.3153475224971771,\n",
       " 'Cosine sim TF vs GD',\n",
       " 0.9987449049949646,\n",
       " 'Cosine sim TF vs GD++',\n",
       " '-')"
      ]
     },
     "metadata": {},
     "output_type": "display_data"
    },
    {
     "data": {
      "text/plain": [
       "('Current seed',\n",
       " 0,\n",
       " 'Training step',\n",
       " 4900,\n",
       " 'Gradient descent loss',\n",
       " 0.3152846693992615,\n",
       " 'GD ++ loss',\n",
       " 0.3152846693992615,\n",
       " 'Trained TF loss',\n",
       " 0.31586289405822754,\n",
       " 'Interpolated model loss',\n",
       " 0.3153475224971771,\n",
       " 'Cosine sim TF vs GD',\n",
       " 0.9987449049949646,\n",
       " 'Cosine sim TF vs GD++',\n",
       " '-')"
      ]
     },
     "metadata": {},
     "output_type": "display_data"
    },
    {
     "data": {
      "text/plain": [
       "('Current seed',\n",
       " 0,\n",
       " 'Training step',\n",
       " 4900,\n",
       " 'Gradient descent loss',\n",
       " 0.3152846693992615,\n",
       " 'GD ++ loss',\n",
       " 0.3152846693992615,\n",
       " 'Trained TF loss',\n",
       " 0.31586289405822754,\n",
       " 'Interpolated model loss',\n",
       " 0.3153475224971771,\n",
       " 'Cosine sim TF vs GD',\n",
       " 0.9987449049949646,\n",
       " 'Cosine sim TF vs GD++',\n",
       " '-')"
      ]
     },
     "metadata": {},
     "output_type": "display_data"
    },
    {
     "data": {
      "text/plain": [
       "('Current seed',\n",
       " 0,\n",
       " 'Training step',\n",
       " 4900,\n",
       " 'Gradient descent loss',\n",
       " 0.3152846693992615,\n",
       " 'GD ++ loss',\n",
       " 0.3152846693992615,\n",
       " 'Trained TF loss',\n",
       " 0.31586289405822754,\n",
       " 'Interpolated model loss',\n",
       " 0.3153475224971771,\n",
       " 'Cosine sim TF vs GD',\n",
       " 0.9987449049949646,\n",
       " 'Cosine sim TF vs GD++',\n",
       " '-')"
      ]
     },
     "metadata": {},
     "output_type": "display_data"
    }
   ],
   "source": [
    "#@title Training\n",
    "\n",
    "# interpolate GD and trained TF\n",
    "inter = True if (config.deq and not config.use_softmax and config.num_heads == 1) else False\n",
    "\n",
    "eval_rng = jax.random.PRNGKey(5)\n",
    "for cur_seed in range(0, config.num_seeds):\n",
    "  config.seed = cur_seed\n",
    "  optimiser, train_state, _, rng = init()\n",
    "  rng, data_rng = jax.random.split(rng, 2)\n",
    "  if config.analyse:\n",
    "    lr_min, min_loss = scan_lrs(eval_rng, lin_diag=False, bs=10000)\n",
    "    if cur_seed == 0:\n",
    "      print('Best lr found for ', config.num_layers ,' steps of gradient descent: ', lr_min/config.dataset_size, \" with loss \", min_loss)\n",
    "    \n",
    "    params_gd = create_weights(config.input_size, 1, config.dataset_size, lr_min,\n",
    "                                jax.random.normal(data_rng, shape=[1, 1, config.input_size])*0 ,\n",
    "                              lin_diag=False, gd_deq=config.gd_deq,\n",
    "                               num_layers=config.num_layers,\n",
    "                               input_mlp_rnd=rng if (config.input_mlp or config.in_proj) else None,\n",
    "                               in_proj=config.in_proj)\n",
    "    if config.num_layers > 1 or (config.in_proj and config.num_layers == 1):\n",
    "      if cur_seed == 0:\n",
    "        lr_min, min_loss = scan_lrs(eval_rng, lin_diag=True, bs=10000)\n",
    "        params_init = create_weights(config.input_size, 1, config.dataset_size, lr_min,\n",
    "                                  jax.random.normal(data_rng, shape=[1, 1, config.input_size])*0,\n",
    "                                lin_diag=True, gd_deq=config.gd_deq,\n",
    "                                num_layers=config.num_layers,\n",
    "                                input_mlp_rnd=eval_rng if (config.input_mlp or config.in_proj) else None,\n",
    "                               in_proj=config.in_proj)\n",
    "        params_gd_trained, data_rng = pre_train_gd_hps(eval_rng, params_init)\n",
    "    else:\n",
    "        params_gd_trained = params_gd\n",
    "\n",
    "  eval_data = data_creator(jax.random.split(eval_rng, num=10000),\n",
    "                               config.input_size,\n",
    "                               config.dataset_size,\n",
    "                               config.size_distract,\n",
    "                               config.input_range,\n",
    "                               config.weight_scale)\n",
    "  if config.analyse:\n",
    "    loss_gd, _, _ = predict_test.apply(params_gd, eval_rng, eval_data,True)\n",
    "    loss_gd_trained, _, _ = predict_test.apply(params_gd_trained, eval_rng,\n",
    "                                                eval_data, True)    \n",
    "  original_data_rng = data_rng   \n",
    "  for step in range(config.training_steps):\n",
    "    if config.cycle_data > 0:\n",
    "      if step % config.cycle_data == 0:\n",
    "        data_rng = original_data_rng\n",
    "\n",
    "    rng, data_rng = jax.random.split(data_rng, 2)\n",
    "    train_data = data_creator(jax.random.split(rng, num=config.bs), \n",
    "                              config.input_size,\n",
    "                              config.dataset_size,\n",
    "                              config.size_distract,\n",
    "                              config.input_range,\n",
    "                              config.weight_scale)\n",
    "    train_state, metrics = update(train_state, train_data, optimiser)\n",
    "    if step % 100 == 0:\n",
    "\n",
    "      loss_trans, _, _ = predict_test.apply(train_state.params, eval_rng,\n",
    "                                            eval_data, False)\n",
    "      loss_trans_list[cur_seed].append(loss_trans)\n",
    "      loss_trans_train_list[cur_seed].append(metrics['train_loss'].item(),)\n",
    "      if config.analyse:\n",
    "        losses_gd_list[cur_seed].append(loss_gd)\n",
    "        losses_gd_list_trained[cur_seed].append(loss_gd_trained)\n",
    "        \n",
    "        losses_int, inter_params = interpolate_weights(train_state, params_gd_trained)\n",
    "\n",
    "        losses_int_list_trained[cur_seed].append(losses_int)\n",
    "\n",
    "        #rng, data_rng, eval_rng = jax.random.split(data_rng, 3)\n",
    "        # Alignment Transformers and GD\n",
    "        cos_sim, w_norm, p_norm = analyse(eval_data, train_state, eval_rng, \n",
    "                                          params_gd)\n",
    "        cos_sim_o, w_norm_o, p_norm_o = analyse(eval_data, train_state, eval_rng, \n",
    "                                          params_gd_trained)\n",
    "        if step > 0:\n",
    "          display((\"Current seed\", cur_seed, \n",
    "                   \"Training step\", step, \"Gradient descent loss\", loss_gd.item(), \n",
    "                    \"GD ++ loss\", loss_gd_trained.item(), \n",
    "                    \"Trained TF loss\", loss_trans.item(),\n",
    "                    \"Interpolated model loss\", losses_int.item() if inter else \"-\", \n",
    "                    \"Cosine sim TF vs GD\", cos_sim.item(), \n",
    "                    \"Cosine sim TF vs GD++\", cos_sim_o.item() if config.num_layers > 1 else \"-\"),\n",
    "                    display_id=\"Cur met\")\n",
    "        \n",
    "        cos_sim_list[cur_seed].append(cos_sim)\n",
    "        grad_norm_list[cur_seed].append(w_norm)\n",
    "        p_norm_list[cur_seed].append(p_norm)\n",
    "\n",
    "        cos_sim_list_o[cur_seed].append(cos_sim_o)\n",
    "        grad_norm_list_o[cur_seed].append(w_norm_o)\n",
    "        p_norm_list_o[cur_seed].append(p_norm_o)\n",
    "\n",
    "      else:\n",
    "        print(step, loss_trans)\n",
    "\n",
    "  if config.analyse:\n",
    "\n",
    "    # Out-of-training-distribution behaviour\n",
    "    ir_t, ws_t, ir_gd, ws_gd, _ = ood(train_state, eval_rng, params_gd, 1000)\n",
    "\n",
    "    ir_t_list[cur_seed].append(ir_t)\n",
    "    ws_t_list[cur_seed].append(ws_t)\n",
    "    ir_gd_list[cur_seed].append(ir_gd)\n",
    "    ws_gd_list[cur_seed].append(ws_gd)\n",
    "\n",
    "    # More Out-of-training-distribution behaviour\n",
    "    ir_t_ood, ws_t_ood, ir_gd_ood, ws_gd_ood, _=ood_other_d(train_state,\n",
    "                                                                  eval_rng,\n",
    "                                                                  params_gd)\n",
    "    ir_t_ood_list[cur_seed].append(ir_t_ood)\n",
    "    ws_t_ood_list[cur_seed].append(ws_t_ood)\n",
    "    ir_gd_ood_list[cur_seed].append(ir_gd_ood)\n",
    "    ws_gd_ood_list[cur_seed].append(ws_gd_ood)\n",
    "\n",
    "    # Out-of-training-distribution behaviour\n",
    "    _, _, ir_gd_trained, ws_gd_trained, _ = ood(train_state, eval_rng,\n",
    "                                            params_gd_trained, 1000)\n",
    "\n",
    "    # More Out-of-training-distribution behaviour\n",
    "    _, _, ir_gd_ood_trained, ws_gd_ood_trained, _= ood_other_d(train_state,\n",
    "                                                                  eval_rng,\n",
    "                                                                  params_gd_trained)\n",
    "\n",
    "    ir_gd_trained_list[cur_seed].append(ir_gd_trained)\n",
    "    ws_gd_trained_list[cur_seed].append(ws_gd_trained)\n",
    "    ir_gd_ood_trained_list[cur_seed].append(ir_gd_ood_trained)\n",
    "    ws_gd_ood_trained_list[cur_seed].append(ws_gd_ood_trained)\n",
    "\n",
    "    if inter:\n",
    "      #Out-of-training-distribution behaviour\n",
    "      _, _, ir_inter, ws_inter, _ = ood(train_state, eval_rng,\n",
    "                                              inter_params, 1000)\n",
    "\n",
    "      #More Out-of-training-distribution behaviour\n",
    "      _, _, ir_inter_ood, ws_inter_ood, _= ood_other_d(train_state, eval_rng,\n",
    "                                                      inter_params)\n",
    "\n",
    "      ir_inter_list[cur_seed].append(ir_inter)\n",
    "      ws_inter_list[cur_seed].append(ws_inter)\n",
    "      ir_inter_ood_list[cur_seed].append(ir_inter_ood)\n",
    "      ws_inter_ood_list[cur_seed].append(ws_inter_ood)\n",
    "\n",
    "    # Noisy training-distribution behaviour\n",
    "    losses_noisy, losses_gd_noisy = noisy_data_ana(train_state, eval_rng,\n",
    "                                                  params_gd)\n",
    "    _, losses_gd_noisy_trained = noisy_data_ana(train_state, eval_rng,\n",
    "                                                  params_gd_trained)\n",
    "\n",
    "    losses_noisy_list[cur_seed].append(losses_noisy)\n",
    "    losses_gd_noisy_list[cur_seed].append(losses_gd_noisy)\n",
    "    losses_gd_noisy_trained_list[cur_seed].append(losses_gd_noisy_trained)\n",
    "\n",
    "    if inter:\n",
    "      _, losses_inter = noisy_data_ana(train_state, eval_rng, inter_params)\n",
    "      losses_inter_noisy_list[cur_seed].append(losses_inter)"
   ]
  },
  {
   "cell_type": "code",
   "execution_count": 10,
   "id": "dd7babbb-d576-4820-90af-44c9d6d024a2",
   "metadata": {},
   "outputs": [
    {
     "data": {
      "text/plain": [
       "[<matplotlib.lines.Line2D at 0x7e1db04aa5b0>]"
      ]
     },
     "execution_count": 10,
     "metadata": {},
     "output_type": "execute_result"
    },
    {
     "data": {
      "image/png": "[encoded data removed]",
      "text/plain": [
       "<Figure size 640x480 with 1 Axes>"
      ]
     },
     "metadata": {},
     "output_type": "display_data"
    }
   ],
   "source": [
    "import matplotlib.pyplot as plt\n",
    "plt.plot(loss_trans_list[0])"
   ]
  },
  {
   "cell_type": "code",
   "execution_count": 11,
   "id": "929e41bd-3384-412c-bb29-318bf8af343a",
   "metadata": {},
   "outputs": [
    {
     "data": {
      "image/jpeg": "[encoded data removed]",
      "text/plain": [
       "<IPython.core.display.Image object>"
      ]
     },
     "metadata": {},
     "output_type": "display_data"
    },
    {
     "data": {
      "image/jpeg": "[encoded data removed]",
      "text/plain": [
       "<IPython.core.display.Image object>"
      ]
     },
     "metadata": {},
     "output_type": "display_data"
    }
   ],
   "source": [
    "#@title Visualize loss and alignment measures (the printing layout is set to default and might be suboptimal)\n",
    "\n",
    "cosine_low = 0.0\n",
    "if config.num_layers == 1:\n",
    "  display_learning(loss_trans_list, test=[losses_gd_list[0]], y_lim_u=0.4, y_lim_l=0.2,\n",
    "                  rw=1, title=\"train.pdf\", allow_download=False,\n",
    "                  single_seeds = True, label_title =\"Loss\",\n",
    "                  title2='GD', title1='Trained TF', \n",
    "                  title3='GD',  loc_first='upper right',\n",
    "                  num_iter_os=len(loss_trans_list[0])*100)\n",
    "\n",
    "  display_learning(cos_sim_list, grad_norm_list, p_norm_list, \n",
    "                  title1=\"Model cos\",\n",
    "                  title2=\"Model diff\", y_lim_u=2,\n",
    "                  title3=\"Preds diff\", second_axis=True, color_add=0.2,\n",
    "                  y_lim_u2=1.19, loc_sec='center right', single_seeds = False, \n",
    "                  y_lim_l2=cosine_low, color_axis=False, width= 5, y_label2 = 'Cosine sim',\n",
    "                  rw=1, num_iter_os=len(grad_norm_list[0])*100, title=\"sim.pdf\",\n",
    "                  allow_download=False)\n",
    "else:\n",
    "  display_learning(loss_trans_list, gt=losses_gd_list_trained, \n",
    "                   test=[losses_gd_list[0]], y_lim_u=0.3, y_lim_l=0.0,\n",
    "                   rw=1, title=\"train.pdf\", allow_download=False,\n",
    "                   title2='GD', title1='Trained TF', \n",
    "                   title3='GD$^{++}$',loc_first='upper right', x_label = \"Training steps\",\n",
    "                   single_seeds = True, plot_title = None,\n",
    "                   num_iter_os=len(loss_trans_list[0])*100)\n",
    "  \n",
    "  display_learning(cos_sim_list, grad_norm_list, p_norm_list, title1=\"Model cos\",\n",
    "                  title2=\"Model diff\", y_lim_u=1.8,\n",
    "                  title3=\"Preds diff\", second_axis=True, color_add=0.2,\n",
    "                  y_lim_u2=1.09999999, color_axis=False,  width= 4, x_label = \"Training steps\",\n",
    "                  plot_title=\"GD vs trained TF\",\n",
    "                  y_lim_l2=0.5, loc_sec = 'center right', y_label1 = 'L2 Norm', y_label2 = 'Cosine sim',\n",
    "                  rw=1, num_iter_os=len(loss_trans_list[0])*100, title=\"sim.pdf\",\n",
    "                  allow_download=False, plot_num=1)\n",
    "  \n",
    "  display_learning(cos_sim_list_o, grad_norm_list_o, p_norm_list_o, title1=\"Model cos\",\n",
    "                  title2=\"Model diff\", y_lim_u=1.8, x_label = \"Training steps\", plot_title = \"GD$^{++}$ vs trained TF\" ,\n",
    "                  title3=\"Preds diff\", second_axis=True, color_add=0.2,\n",
    "                  y_lim_u2=1.0599999, color_axis=False, width= 4, y_label1 = 'L2 Norm', y_label2 = 'Cosine sim',\n",
    "                  y_lim_l2=0.5, loc_sec = 'center right',\n",
    "                  rw=1, num_iter_os=len(loss_trans_list[0])*100, title=\"sim2.pdf\",\n",
    "                  allow_download=False)"
   ]
  },
  {
   "cell_type": "code",
   "execution_count": 12,
   "id": "535da203-7a70-4446-920e-3728c62d59e3",
   "metadata": {},
   "outputs": [
    {
     "data": {
      "text/plain": [
       "(0.0, 0.6)"
      ]
     },
     "execution_count": 12,
     "metadata": {},
     "output_type": "execute_result"
    },
    {
     "data": {
      "image/png": "[encoded data removed]",
      "text/plain": [
       "<Figure size 640x480 with 1 Axes>"
      ]
     },
     "metadata": {},
     "output_type": "display_data"
    }
   ],
   "source": [
    "import matplotlib.pyplot as plt \n",
    "\n",
    "plt.plot(loss_trans_list[0])\n",
    "plt.ylabel('loss')\n",
    "plt.xlabel('Training steps (x100)')\n",
    "plt.ylim([0,.6])"
   ]
  },
  {
   "cell_type": "code",
   "execution_count": 13,
   "id": "ce0f0055-f816-40e6-ab59-08b3e7b4d22c",
   "metadata": {},
   "outputs": [],
   "source": [
    "# save current model for reuse\n",
    "import pickle\n",
    "from datetime import datetime\n",
    "\n",
    "# Assuming `train_state` is the state after training\n",
    "params = train_state.params\n",
    "\n",
    "model_id = datetime.now()\n",
    "\n",
    "# Save parameters to a file\n",
    "with open(f'model_params_{model_id}.pkl', 'wb') as f:\n",
    "    pickle.dump(params, f)\n",
    "\n",
    "with open(f'config_{model_id}.pkl', 'wb') as f:\n",
    "    pickle.dump(config, f)"
   ]
  },
  {
   "cell_type": "code",
   "execution_count": null,
   "id": "1cab4cda-de21-4e8b-bd92-8ec868d25bc3",
   "metadata": {},
   "outputs": [],
   "source": []
  },
  {
   "cell_type": "markdown",
   "id": "03525e36-76b7-4a83-9e31-42eca088eb0e",
   "metadata": {},
   "source": [
    "# eval on all pairs "
   ]
  },
  {
   "cell_type": "code",
   "execution_count": null,
   "id": "19f7b9a2-21c1-4aa7-bf1a-17bd3ed7fad5",
   "metadata": {},
   "outputs": [],
   "source": []
  },
  {
   "cell_type": "code",
   "execution_count": 14,
   "id": "7851e20d-bff9-40e2-8d5a-3dc14c875434",
   "metadata": {},
   "outputs": [],
   "source": [
    "i_size = 14  # 7 classes\n",
    "n_items = i_size //2\n",
    "c_size = (i_size//2-1) * 2   # -1 because we leave one adjacent pair out, which the model should be trained on to do linregress\n",
    "size_distract = 0\n",
    "input_range = 1.\n",
    "w_scale = 1.\n",
    "\n",
    "seq, target, w = create_reg_data_TI_onehot_eval(eval_rng, i_size, c_size, size_distract, input_range, w_scale, (6, 1))"
   ]
  },
  {
   "cell_type": "code",
   "execution_count": 15,
   "id": "d954f5d5-e93b-48d7-bb1b-b7084bf98268",
   "metadata": {},
   "outputs": [
    {
     "data": {
      "text/plain": [
       "Array([[ 0.,  0.,  0.,  0.,  1.,  0.,  0.,  0.,  0.,  1.,  0.,  0.,  0.,\n",
       "         0.,  1.],\n",
       "       [ 0.,  0.,  0.,  0.,  0.,  0.,  1.,  0.,  0.,  1.,  0.,  0.,  0.,\n",
       "         0., -1.],\n",
       "       [ 0.,  1.,  0.,  0.,  0.,  0.,  0.,  0.,  0.,  0.,  0.,  1.,  0.,\n",
       "         0.,  1.],\n",
       "       [ 0.,  0.,  0.,  0.,  1.,  0.,  0.,  0.,  1.,  0.,  0.,  0.,  0.,\n",
       "         0., -1.],\n",
       "       [ 0.,  0.,  0.,  1.,  0.,  0.,  0.,  0.,  0.,  0.,  0.,  0.,  1.,\n",
       "         0.,  1.],\n",
       "       [ 0.,  0.,  0.,  0.,  0.,  0.,  1.,  1.,  0.,  0.,  0.,  0.,  0.,\n",
       "         0.,  1.],\n",
       "       [ 0.,  0.,  1.,  0.,  0.,  0.,  0.,  0.,  0.,  0.,  0.,  0.,  0.,\n",
       "         1.,  1.],\n",
       "       [ 1.,  0.,  0.,  0.,  0.,  0.,  0.,  0.,  0.,  0.,  0.,  0.,  0.,\n",
       "         1., -1.],\n",
       "       [ 0.,  0.,  0.,  0.,  0.,  1.,  0.,  0.,  1.,  0.,  0.,  0.,  0.,\n",
       "         0.,  1.],\n",
       "       [ 0.,  0.,  0.,  0.,  0.,  1.,  0.,  0.,  0.,  0.,  1.,  0.,  0.,\n",
       "         0., -1.],\n",
       "       [ 0.,  0.,  1.,  0.,  0.,  0.,  0.,  0.,  0.,  0.,  0.,  1.,  0.,\n",
       "         0., -1.],\n",
       "       [ 0.,  1.,  0.,  0.,  0.,  0.,  0.,  0.,  0.,  0.,  0.,  0.,  1.,\n",
       "         0., -1.],\n",
       "       [ 0.,  0.,  0.,  1.,  0.,  0.,  0.,  0.,  0.,  0.,  0.,  0.,  0.,\n",
       "         1., -0.]], dtype=float32)"
      ]
     },
     "execution_count": 15,
     "metadata": {},
     "output_type": "execute_result"
    }
   ],
   "source": [
    "seq"
   ]
  },
  {
   "cell_type": "code",
   "execution_count": 16,
   "id": "3fad492e-cce2-444f-829a-ec6b1ec2d728",
   "metadata": {},
   "outputs": [],
   "source": [
    "preds = predict.apply(train_state.params, eval_rng, jnp.expand_dims(seq,0), False)"
   ]
  },
  {
   "cell_type": "code",
   "execution_count": 17,
   "id": "cccc9e06-bb86-4ed5-a18a-f30ebd1d96ae",
   "metadata": {},
   "outputs": [
    {
     "data": {
      "text/plain": [
       "(13, 15)"
      ]
     },
     "execution_count": 17,
     "metadata": {},
     "output_type": "execute_result"
    }
   ],
   "source": [
    "preds[0].shape"
   ]
  },
  {
   "cell_type": "code",
   "execution_count": 18,
   "id": "65126b99-9c3c-4824-90bb-0e9040bb306a",
   "metadata": {},
   "outputs": [
    {
     "data": {
      "image/png": "[encoded data removed]",
      "text/plain": [
       "<Figure size 640x480 with 4 Axes>"
      ]
     },
     "metadata": {},
     "output_type": "display_data"
    }
   ],
   "source": [
    "from mpl_toolkits.axes_grid1 import make_axes_locatable\n",
    "\n",
    "fig, ax = plt.subplots(1, 2, sharex=True, sharey=True)\n",
    "im1 = ax[0].imshow(seq)\n",
    "im2 = ax[1].imshow(preds[0])\n",
    "\n",
    "ax[0].set_title('input sequence')\n",
    "ax[0].set_xlabel('features')\n",
    "ax[0].set_ylabel('token')\n",
    "ax[1].set_title('prediction')\n",
    "ax[1].set_xlabel('features')\n",
    "\n",
    "divider = make_axes_locatable(ax[0])\n",
    "cax = divider.append_axes('right', size='5%', pad=0.05)\n",
    "fig.colorbar(im1, cax=cax, orientation='vertical')\n",
    "\n",
    "divider = make_axes_locatable(ax[1])\n",
    "cax = divider.append_axes('right', size='5%', pad=0.05)\n",
    "fig.colorbar(im2, cax=cax, orientation='vertical')\n",
    "\n",
    "# plt.suptitle('Prediction is correct at final point but it doesnt recapture whole sequence (isnt trained to)')\n",
    "plt.tight_layout()"
   ]
  },
  {
   "cell_type": "code",
   "execution_count": null,
   "id": "c429b7e3-703f-486f-a71e-22224e839388",
   "metadata": {},
   "outputs": [],
   "source": []
  },
  {
   "cell_type": "code",
   "execution_count": 19,
   "id": "98ff0faf-093b-4f5a-8851-1d4c0f560b8b",
   "metadata": {},
   "outputs": [],
   "source": [
    "from itertools import product\n",
    "\n",
    "TI_data_creator_eval = vmap(create_reg_data_TI_onehot_eval,\n",
    "                    in_axes=(0, None, None, None, None, None, None),\n",
    "                    out_axes=0)\n",
    "\n"
   ]
  },
  {
   "cell_type": "code",
   "execution_count": 20,
   "id": "b8f48249-6e69-46fd-909c-c88d6bdea0b2",
   "metadata": {},
   "outputs": [],
   "source": [
    "# this is with data_creator \n",
    "i = 1\n",
    "j = 4\n",
    "\n",
    "seq, target, w = create_reg_data_TI_onehot_eval(eval_rng,\n",
    "                           config.input_size,\n",
    "                           config.dataset_size,\n",
    "                           config.size_distract,\n",
    "                           config.input_range,\n",
    "                           config.weight_scale,\n",
    "                           (i, j))\n",
    "\n",
    "# preds = predict.apply(train_state.params, eval_rng, seq, False)\n",
    "# preds.shape"
   ]
  },
  {
   "cell_type": "code",
   "execution_count": 21,
   "id": "1c16b2e4-8ac6-4570-bcc3-68633e60c89f",
   "metadata": {},
   "outputs": [
    {
     "data": {
      "text/plain": [
       "Array(-0.0469391, dtype=float32)"
      ]
     },
     "execution_count": 21,
     "metadata": {},
     "output_type": "execute_result"
    }
   ],
   "source": [
    "pred = predict.apply(train_state.params, eval_rng, jnp.expand_dims(seq,0), False)\n",
    "pred[0,-1,-1]"
   ]
  },
  {
   "cell_type": "code",
   "execution_count": 22,
   "id": "9b0b3ba8-bd12-4e58-8300-83e0c3b6f4f9",
   "metadata": {},
   "outputs": [],
   "source": [
    "\n",
    "# other version \n",
    "predict_mat = np.zeros((n_items, n_items))\n",
    "target_mat = np.zeros((n_items, n_items))\n",
    "\n",
    "eval_rng, eval_rng2 = jax.random.split(eval_rng, 2)\n",
    "\n",
    "for i, j in product(range(n_items), range(n_items)):\n",
    "    seq, target, w = create_reg_data_TI_onehot_eval(eval_rng,\n",
    "                           config.input_size,\n",
    "                           config.dataset_size,\n",
    "                           config.size_distract,\n",
    "                           config.input_range,\n",
    "                           config.weight_scale,\n",
    "                           (i, j))\n",
    "    preds = predict.apply(train_state.params, eval_rng, jnp.expand_dims(seq,0), False)\n",
    "    predict_mat[i, j] = preds[0, -1, -1]    \n",
    "    target_mat[i, j] = target[-1].item()"
   ]
  },
  {
   "cell_type": "code",
   "execution_count": 23,
   "id": "48865eba-56b5-424b-9eb7-125f61fc4f66",
   "metadata": {},
   "outputs": [],
   "source": [
    "# n_eval = 100\n",
    "# predict_mat = np.zeros((n_eval, n_items, n_items))\n",
    "#  \n",
    "# for i, j in product(range(n_items), range(n_items)):\n",
    "#     seq, target, w = TI_data_creator_eval(jax.random.split(eval_rng, num=n_eval),\n",
    "#                            config.input_size,\n",
    "#                            config.dataset_size,\n",
    "#                            config.size_distract,\n",
    "#                            config.input_range,\n",
    "#                            config.weight_scale,\n",
    "#                            (i, j))\n",
    "#     preds = predict.apply(train_state.params, eval_rng, seq, False)\n",
    "#     predict_mat[:, i, j] = preds[:, -1, -1]    "
   ]
  },
  {
   "cell_type": "code",
   "execution_count": 24,
   "id": "b30cf640-85f8-479c-9405-df7a7aa958f3",
   "metadata": {},
   "outputs": [
    {
     "data": {
      "text/plain": [
       "2"
      ]
     },
     "execution_count": 24,
     "metadata": {},
     "output_type": "execute_result"
    }
   ],
   "source": [
    "predict_mat.ndim"
   ]
  },
  {
   "cell_type": "code",
   "execution_count": 25,
   "id": "e709ec9f-7917-4dfb-82c6-825c61a4af16",
   "metadata": {},
   "outputs": [
    {
     "data": {
      "text/plain": [
       "([<matplotlib.axis.YTick at 0x7e1cec37ff40>,\n",
       "  <matplotlib.axis.YTick at 0x7e1cec37fd60>,\n",
       "  <matplotlib.axis.YTick at 0x7e1cec37f2b0>,\n",
       "  <matplotlib.axis.YTick at 0x7e1cec378430>,\n",
       "  <matplotlib.axis.YTick at 0x7e1cec373760>,\n",
       "  <matplotlib.axis.YTick at 0x7e1cec2ffdf0>,\n",
       "  <matplotlib.axis.YTick at 0x7e1cec308d30>],\n",
       " [Text(0, 0, 'A'),\n",
       "  Text(0, 1, 'B'),\n",
       "  Text(0, 2, 'C'),\n",
       "  Text(0, 3, 'D'),\n",
       "  Text(0, 4, 'E'),\n",
       "  Text(0, 5, 'F'),\n",
       "  Text(0, 6, 'G')])"
      ]
     },
     "execution_count": 25,
     "metadata": {},
     "output_type": "execute_result"
    },
    {
     "data": {
      "image/png": "[encoded data removed]",
      "text/plain": [
       "<Figure size 640x480 with 2 Axes>"
      ]
     },
     "metadata": {},
     "output_type": "display_data"
    }
   ],
   "source": [
    "if predict_mat.ndim == 3:\n",
    "    predict_mat_plot = predict_mat.mean(axis=0)\n",
    "elif predict_mat.ndim == 2:\n",
    "    predict_mat_plot = predict_mat\n",
    "else:\n",
    "    raise ValueError\n",
    "\n",
    "import matplotlib.pyplot as plt\n",
    "symbols = ['A', 'B', 'C', 'D', 'E', 'F', 'G']\n",
    "plt.imshow(predict_mat_plot, cmap='coolwarm'); plt.colorbar()\n",
    "plt.xticks(range(7), symbols)\n",
    "plt.yticks(range(7), symbols)"
   ]
  },
  {
   "cell_type": "code",
   "execution_count": 26,
   "id": "ad45794e-98bf-489c-a610-2fbfa85037af",
   "metadata": {},
   "outputs": [
    {
     "data": {
      "text/plain": [
       "<matplotlib.image.AxesImage at 0x7e1cec31ef70>"
      ]
     },
     "execution_count": 26,
     "metadata": {},
     "output_type": "execute_result"
    },
    {
     "data": {
      "image/png": "[encoded data removed]",
      "text/plain": [
       "<Figure size 640x480 with 1 Axes>"
      ]
     },
     "metadata": {},
     "output_type": "display_data"
    }
   ],
   "source": [
    "plt.imshow(target_mat, cmap='coolwarm')"
   ]
  },
  {
   "cell_type": "code",
   "execution_count": null,
   "id": "f50066d6-0b3b-4e5a-a778-d40e5640c61c",
   "metadata": {},
   "outputs": [],
   "source": []
  },
  {
   "cell_type": "code",
   "execution_count": null,
   "id": "5ee15f6a-eda4-4e63-a4c7-0c525ecfce5d",
   "metadata": {},
   "outputs": [],
   "source": []
  },
  {
   "cell_type": "code",
   "execution_count": 27,
   "id": "8d340f68-c776-4ed5-adcf-de0f1c637d41",
   "metadata": {},
   "outputs": [
    {
     "data": {
      "image/png": "[encoded data removed]",
      "text/plain": [
       "<Figure size 1200x600 with 1 Axes>"
      ]
     },
     "metadata": {},
     "output_type": "display_data"
    }
   ],
   "source": [
    "import numpy as np\n",
    "import matplotlib.pyplot as plt\n",
    "\n",
    "# Example: Generate a random NxN matrix to simulate `predict_mat`\n",
    "N = 7\n",
    "# predict_mat = np.random.random((N, N))\n",
    "\n",
    "# Helper function to generate query labels\n",
    "def get_query_label(i, j):\n",
    "    return chr(65 + i) + chr(65 + j)  # Convert indices to characters (A, B, C, ...)\n",
    "\n",
    "# Create a dictionary to store predictions grouped by symbolic distance\n",
    "distances = {}\n",
    "\n",
    "# Loop through the upper triangular matrix excluding diagonal (symbolic distance 0)\n",
    "for i in range(N):\n",
    "    for j in range(i + 1, N):  # Upper triangle, excluding the diagonal\n",
    "        dist = j - i  # Symbolic distance\n",
    "        if dist > 0:  # Ignore symbolic distance 0\n",
    "            query_label = get_query_label(i, j)  # Get query label\n",
    "            prediction = predict_mat_plot[i, j]  # Get prediction value\n",
    "            \n",
    "            # Store prediction in the dictionary, grouped by symbolic distance\n",
    "            if dist not in distances:\n",
    "                distances[dist] = {'labels': [], 'predictions': []}\n",
    "            distances[dist]['labels'].append(query_label)\n",
    "            distances[dist]['predictions'].append(prediction)\n",
    "\n",
    "# Create a figure\n",
    "plt.figure(figsize=(12, 6))\n",
    "\n",
    "# Initialize a list to hold the x positions for the discontinuous axis\n",
    "x_positions = []\n",
    "x_ticks = []\n",
    "\n",
    "# Variable to manage spacing between groups\n",
    "current_x_pos = 0\n",
    "\n",
    "# Plot separate lines for each symbolic distance\n",
    "for dist in sorted(distances.keys()):\n",
    "    labels = distances[dist]['labels']\n",
    "    predictions = distances[dist]['predictions']\n",
    "    \n",
    "    # Create a range of x positions for the current symbolic distance\n",
    "    x_pos = np.arange(current_x_pos, current_x_pos + len(labels))\n",
    "    x_positions.append(x_pos)\n",
    "    x_ticks.extend(x_pos)  # Collect the positions for x-ticks\n",
    "    \n",
    "    # Plot the line for the current symbolic distance\n",
    "    plt.plot(x_pos, predictions, marker='o', label=f'Symbolic Distance {dist}')\n",
    "    \n",
    "    # Update the x position for the next group (to create a gap)\n",
    "    current_x_pos += len(labels) + 2  # Add a gap of 2 to create space between groups\n",
    "\n",
    "# Customize the plot\n",
    "plt.title('Model Predictions by Symbolic Distance')\n",
    "plt.xlabel('Query Pair')\n",
    "plt.ylabel('Prediction Value')\n",
    "\n",
    "# Set the x-ticks to be the center of each group of query pairs\n",
    "plt.xticks(x_ticks, np.concatenate([distances[dist]['labels'] for dist in sorted(distances.keys())]), rotation=90)\n",
    "\n",
    "# Add a legend and grid\n",
    "plt.legend(title='Symbolic Distance')\n",
    "plt.grid(False)\n",
    "\n",
    "# Tight layout to avoid overlap\n",
    "plt.tight_layout()\n",
    "\n",
    "# Show the plot\n",
    "plt.show()\n"
   ]
  },
  {
   "cell_type": "code",
   "execution_count": null,
   "id": "fee04a34-305d-428e-bb46-268bedbf47ab",
   "metadata": {},
   "outputs": [],
   "source": []
  },
  {
   "cell_type": "code",
   "execution_count": null,
   "id": "cfce1405-c6cd-4b1b-aa19-db963fe694ef",
   "metadata": {},
   "outputs": [],
   "source": []
  },
  {
   "cell_type": "code",
   "execution_count": null,
   "id": "bd3e92bb-1ed4-4140-9c45-9cf3fb6360b7",
   "metadata": {},
   "outputs": [],
   "source": []
  },
  {
   "cell_type": "code",
   "execution_count": null,
   "id": "deb637fd-6a3b-48c4-99e8-049465fef207",
   "metadata": {},
   "outputs": [],
   "source": []
  },
  {
   "cell_type": "code",
   "execution_count": null,
   "id": "5d527a39-e213-445e-9bd5-b854754c0d34",
   "metadata": {},
   "outputs": [],
   "source": []
  },
  {
   "cell_type": "code",
   "execution_count": null,
   "id": "874d8862-edb3-4a7d-a5ba-f83f1731c044",
   "metadata": {},
   "outputs": [],
   "source": []
  },
  {
   "cell_type": "code",
   "execution_count": null,
   "id": "c4705a4e-421f-4e7d-8bf7-ecb3b84c437e",
   "metadata": {},
   "outputs": [],
   "source": []
  },
  {
   "cell_type": "code",
   "execution_count": null,
   "id": "04a126b1-9273-432b-9271-0207853266c6",
   "metadata": {},
   "outputs": [],
   "source": []
  },
  {
   "cell_type": "code",
   "execution_count": null,
   "id": "5c73c8a4-25d6-4214-b28e-a10e172c215a",
   "metadata": {},
   "outputs": [],
   "source": []
  },
  {
   "cell_type": "code",
   "execution_count": null,
   "id": "2af181d7-e4fe-4dee-9e1b-a0498db72ea4",
   "metadata": {},
   "outputs": [],
   "source": []
  },
  {
   "cell_type": "code",
   "execution_count": null,
   "id": "a67e5bec-5bfa-443d-821f-71aab9cb6b1e",
   "metadata": {},
   "outputs": [],
   "source": []
  },
  {
   "cell_type": "code",
   "execution_count": null,
   "id": "66d46172-01cf-436e-8d7f-93c44fe47a14",
   "metadata": {},
   "outputs": [],
   "source": []
  },
  {
   "cell_type": "code",
   "execution_count": null,
   "id": "18808c52-77e3-43e9-b431-d2d42265757f",
   "metadata": {},
   "outputs": [],
   "source": []
  },
  {
   "cell_type": "code",
   "execution_count": null,
   "id": "df40142a-043c-4199-97cc-f227654fe665",
   "metadata": {},
   "outputs": [],
   "source": []
  },
  {
   "cell_type": "code",
   "execution_count": null,
   "id": "d72eb748-8f83-4125-ae91-3d8c129d2266",
   "metadata": {},
   "outputs": [],
   "source": []
  },
  {
   "cell_type": "code",
   "execution_count": null,
   "id": "849e41b7-a07a-40ab-8aba-b3f68c9bff3d",
   "metadata": {},
   "outputs": [],
   "source": []
  }
 ],
 "metadata": {
  "kernelspec": {
   "display_name": "Python 3 (ipykernel)",
   "language": "python",
   "name": "python3"
  },
  "language_info": {
   "codemirror_mode": {
    "name": "ipython",
    "version": 3
   },
   "file_extension": ".py",
   "mimetype": "text/x-python",
   "name": "python",
   "nbconvert_exporter": "python",
   "pygments_lexer": "ipython3",
   "version": "3.9.20"
  }
 },
 "nbformat": 4,
 "nbformat_minor": 5
}
